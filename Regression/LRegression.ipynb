{
 "cells": [
  {
   "cell_type": "code",
   "execution_count": 1,
   "metadata": {},
   "outputs": [],
   "source": [
    "import pandas as pd \n",
    "import matplotlib.pyplot as plt\n",
    "import numpy as np\n",
    "import random\n",
    "from sklearn import datasets,linear_model,metrics"
   ]
  },
  {
   "cell_type": "code",
   "execution_count": 2,
   "metadata": {},
   "outputs": [],
   "source": [
    "c = np.zeros([200, 4],dtype = int)"
   ]
  },
  {
   "cell_type": "code",
   "execution_count": 3,
   "metadata": {},
   "outputs": [],
   "source": [
    "for i in range(0,200,1):\n",
    "    for j in range(0,3,1):\n",
    "        c[i,j]=random.randint(10,35)\n",
    "        \n",
    "for i in range(0,200,1):\n",
    "    c[i,3]=random.randint(5,10)"
   ]
  },
  {
   "cell_type": "code",
   "execution_count": 4,
   "metadata": {},
   "outputs": [
    {
     "data": {
      "text/plain": [
       "array([[28, 19, 24,  9],\n",
       "       [32, 13, 13,  6],\n",
       "       [10, 22, 28,  7],\n",
       "       [17, 29, 33,  9],\n",
       "       [16, 28, 17,  7],\n",
       "       [19, 19, 19,  6],\n",
       "       [24, 12, 10,  8],\n",
       "       [27, 21, 21,  8],\n",
       "       [21, 25, 20,  6],\n",
       "       [24, 29, 17,  8],\n",
       "       [19, 31, 13,  6],\n",
       "       [18, 12, 15,  8],\n",
       "       [21, 14, 34,  6],\n",
       "       [25, 30, 19,  7],\n",
       "       [21, 34, 23,  7],\n",
       "       [21, 12, 24,  9],\n",
       "       [17, 28, 15,  9],\n",
       "       [16, 31, 13,  6],\n",
       "       [22, 29, 24, 10],\n",
       "       [15, 23, 24,  9],\n",
       "       [21, 19, 29, 10],\n",
       "       [10, 21, 29,  5],\n",
       "       [26, 30, 19,  6],\n",
       "       [17, 13, 31,  7],\n",
       "       [12, 31, 18, 10],\n",
       "       [25, 19, 10, 10],\n",
       "       [14, 31, 12,  7],\n",
       "       [17, 17, 11,  9],\n",
       "       [15, 27, 27,  5],\n",
       "       [31, 25, 12, 10],\n",
       "       [23, 15, 25, 10],\n",
       "       [24, 28, 10, 10],\n",
       "       [15, 11, 21, 10],\n",
       "       [21, 24, 20, 10],\n",
       "       [29, 24, 16,  6],\n",
       "       [31, 23, 23,  7],\n",
       "       [29, 27, 18,  6],\n",
       "       [22, 31, 10, 10],\n",
       "       [20, 17, 28,  6],\n",
       "       [20, 20, 24,  9],\n",
       "       [28, 32, 34,  9],\n",
       "       [31, 16, 22, 10],\n",
       "       [22, 33, 30,  8],\n",
       "       [17, 34, 19,  8],\n",
       "       [17, 21, 21,  5],\n",
       "       [27, 22, 19,  9],\n",
       "       [11, 34, 19,  8],\n",
       "       [32, 28, 12,  5],\n",
       "       [32, 32, 17,  9],\n",
       "       [13, 25, 23,  5],\n",
       "       [32, 23, 30,  9],\n",
       "       [31, 31, 21, 10],\n",
       "       [24, 16, 19,  5],\n",
       "       [14, 32, 14,  7],\n",
       "       [28, 30, 18,  9],\n",
       "       [26, 21, 13, 10],\n",
       "       [33, 23, 22,  5],\n",
       "       [29, 23, 23, 10],\n",
       "       [15, 33, 15,  8],\n",
       "       [20, 14, 34,  5],\n",
       "       [24, 20, 21, 10],\n",
       "       [26, 18, 31,  5],\n",
       "       [19, 13, 30,  7],\n",
       "       [35, 11, 23,  5],\n",
       "       [13, 32, 21, 10],\n",
       "       [35, 20, 15,  5],\n",
       "       [18, 27, 10,  7],\n",
       "       [11, 26, 22,  7],\n",
       "       [30, 26, 20,  9],\n",
       "       [35, 19, 34, 10],\n",
       "       [27, 29, 35,  6],\n",
       "       [11, 23, 17,  9],\n",
       "       [34, 16, 21,  8],\n",
       "       [23, 12, 14,  9],\n",
       "       [20, 14, 27,  5],\n",
       "       [19, 10, 21,  9],\n",
       "       [34, 30, 33,  5],\n",
       "       [21, 33, 24,  7],\n",
       "       [24, 11, 24,  5],\n",
       "       [12, 30, 29,  5],\n",
       "       [18, 28, 19,  9],\n",
       "       [10, 15, 27,  8],\n",
       "       [34, 22, 33,  5],\n",
       "       [12, 16, 24,  5],\n",
       "       [24, 29, 19,  5],\n",
       "       [35, 21, 31,  7],\n",
       "       [25, 19, 11,  5],\n",
       "       [29, 23, 28,  5],\n",
       "       [22, 23, 25,  7],\n",
       "       [31, 10, 24,  7],\n",
       "       [18, 33, 17, 10],\n",
       "       [18, 31, 31,  6],\n",
       "       [33, 14, 11, 10],\n",
       "       [12, 29, 12,  8],\n",
       "       [35, 11, 28,  6],\n",
       "       [32, 29, 20,  9],\n",
       "       [16, 12, 27,  9],\n",
       "       [14, 10, 31, 10],\n",
       "       [12, 10, 20, 10],\n",
       "       [31, 26, 12,  7],\n",
       "       [30, 12, 10,  9],\n",
       "       [22, 10, 11,  8],\n",
       "       [25, 23, 13,  6],\n",
       "       [34, 30, 21,  6],\n",
       "       [24, 32, 28, 10],\n",
       "       [22, 32, 30,  8],\n",
       "       [19, 15, 13,  6],\n",
       "       [15, 18, 15,  8],\n",
       "       [33, 34, 10,  8],\n",
       "       [19, 32, 26,  7],\n",
       "       [24, 29, 26,  6],\n",
       "       [19, 35, 19,  5],\n",
       "       [11, 31, 15,  5],\n",
       "       [33, 25, 31,  6],\n",
       "       [25, 10, 33, 10],\n",
       "       [25, 35, 16,  5],\n",
       "       [23, 24, 25, 10],\n",
       "       [22, 20, 25,  9],\n",
       "       [26, 11, 28, 10],\n",
       "       [25, 17, 34,  5],\n",
       "       [15, 20, 22,  6],\n",
       "       [11, 12, 32,  9],\n",
       "       [22, 18, 28,  8],\n",
       "       [14, 10, 16,  5],\n",
       "       [34, 16, 31,  7],\n",
       "       [23, 28, 21,  5],\n",
       "       [34, 24, 10,  8],\n",
       "       [34, 31, 17,  7],\n",
       "       [10, 15, 22,  6],\n",
       "       [30, 15, 21, 10],\n",
       "       [34, 18, 10,  9],\n",
       "       [18, 27, 30,  8],\n",
       "       [28, 16, 29,  5],\n",
       "       [10, 28, 24,  6],\n",
       "       [19, 18, 21,  6],\n",
       "       [35, 18, 15,  5],\n",
       "       [28, 23, 11,  8],\n",
       "       [20, 23, 25,  5],\n",
       "       [29, 16, 26,  6],\n",
       "       [13, 35, 30,  9],\n",
       "       [34, 13, 25, 10],\n",
       "       [31, 33, 27, 10],\n",
       "       [10, 30, 22,  6],\n",
       "       [25, 19, 32,  7],\n",
       "       [30, 31, 10,  8],\n",
       "       [12, 12, 13,  6],\n",
       "       [32, 34, 20, 10],\n",
       "       [25, 17, 15,  6],\n",
       "       [20, 22, 22, 10],\n",
       "       [34, 17, 22,  9],\n",
       "       [31, 13, 24,  9],\n",
       "       [22, 12, 28,  5],\n",
       "       [11, 25, 35,  7],\n",
       "       [16, 22, 12,  5],\n",
       "       [29, 30, 15,  7],\n",
       "       [10, 25, 15,  8],\n",
       "       [17, 23, 35,  7],\n",
       "       [13, 24, 15,  6],\n",
       "       [21, 11, 23,  9],\n",
       "       [33, 17, 13,  7],\n",
       "       [10, 27, 15, 10],\n",
       "       [20, 14, 17,  7],\n",
       "       [16, 16, 22,  5],\n",
       "       [13, 24, 33,  6],\n",
       "       [16, 15, 28,  6],\n",
       "       [20, 28, 27,  8],\n",
       "       [14, 22, 21,  6],\n",
       "       [21, 33, 17,  8],\n",
       "       [20, 17, 13,  9],\n",
       "       [35, 21, 27,  5],\n",
       "       [13, 25, 21,  9],\n",
       "       [16, 21, 24,  7],\n",
       "       [12, 33, 26,  7],\n",
       "       [21, 21, 31,  5],\n",
       "       [16, 24, 25,  9],\n",
       "       [29, 23, 13, 10],\n",
       "       [23, 13, 22,  7],\n",
       "       [16, 19, 31, 10],\n",
       "       [10, 21, 18, 10],\n",
       "       [14, 11, 34,  7],\n",
       "       [30, 28, 10,  7],\n",
       "       [26, 23, 15,  8],\n",
       "       [18, 26, 35,  9],\n",
       "       [23, 27, 28,  5],\n",
       "       [18, 27, 31,  8],\n",
       "       [35, 13, 27,  8],\n",
       "       [20, 35, 10,  7],\n",
       "       [16, 11, 26, 10],\n",
       "       [29, 32, 28, 10],\n",
       "       [11, 29, 12, 10],\n",
       "       [34, 18, 22,  9],\n",
       "       [14, 12, 24,  8],\n",
       "       [22, 35, 35,  9],\n",
       "       [21, 26, 31, 10],\n",
       "       [31, 19, 31,  5],\n",
       "       [17, 32, 30,  5],\n",
       "       [35, 27, 16,  6],\n",
       "       [20, 14, 18,  5],\n",
       "       [24, 21, 13,  7],\n",
       "       [23, 14, 23,  5]])"
      ]
     },
     "execution_count": 4,
     "metadata": {},
     "output_type": "execute_result"
    }
   ],
   "source": [
    "c "
   ]
  },
  {
   "cell_type": "code",
   "execution_count": 5,
   "metadata": {},
   "outputs": [],
   "source": [
    "X = c[:, :-1]\n",
    "y = c[:, 3]"
   ]
  },
  {
   "cell_type": "code",
   "execution_count": 7,
   "metadata": {},
   "outputs": [],
   "source": [
    "from sklearn.model_selection import train_test_split\n",
    "X_train, X_test, y_train, y_test = train_test_split(X, y, test_size = 0.2, random_state = 0)\n"
   ]
  },
  {
   "cell_type": "code",
   "execution_count": 8,
   "metadata": {},
   "outputs": [
    {
     "data": {
      "text/plain": [
       "LinearRegression(copy_X=True, fit_intercept=True, n_jobs=None, normalize=False)"
      ]
     },
     "execution_count": 8,
     "metadata": {},
     "output_type": "execute_result"
    }
   ],
   "source": [
    "from sklearn.linear_model import LinearRegression\n",
    "regressor = LinearRegression()\n",
    "regressor.fit(X_train, y_train)"
   ]
  },
  {
   "cell_type": "code",
   "execution_count": 16,
   "metadata": {},
   "outputs": [],
   "source": [
    "y_pred = regressor.predict(X_test)"
   ]
  },
  {
   "cell_type": "code",
   "execution_count": 17,
   "metadata": {},
   "outputs": [
    {
     "name": "stdout",
     "output_type": "stream",
     "text": [
      "[7.38951066 7.49713032 7.6125706  7.57956828 7.34699082 7.24449819\n",
      " 7.52515295 7.38529998 7.29547573 7.28209764 7.30325234 7.4369624\n",
      " 7.5799432  7.49629812 7.49297131 7.44657558 7.479004   7.60187845\n",
      " 7.6058978  7.41256124 7.32876883 7.68365449 7.4745542  7.56264142\n",
      " 7.46503669 7.63417107 7.34128989 7.34489983 7.37051965 7.49442142\n",
      " 7.56192785 7.57970408 7.41216714 7.45943521 7.44647991 7.63465697\n",
      " 7.45686597 7.53462645 7.49075217 7.63784032]\n",
      "[10  9  8 10 10  9  6 10  6  7  5  5  7  7  9  8 10  9 10  5  5  6  9  7\n",
      " 10  5  7  8  8  5  9 10  9  5  6 10 10  7  5  6]\n",
      "[-0.00478458 -0.00410736 -0.01604299]\n",
      "0.004524634761670643\n",
      "-0.006158524244708641\n"
     ]
    }
   ],
   "source": [
    "print(y_pred)\n",
    "print(y_test)\n",
    "print(regressor.coef_)\n",
    "print(regressor.score(X_train,y_train))\n",
    "print(regressor.score(X_test, y_test))"
   ]
  },
  {
   "cell_type": "code",
   "execution_count": 18,
   "metadata": {},
   "outputs": [
    {
     "data": {
      "image/png": "[encoded data removed]",
      "text/plain": [
       "<Figure size 432x288 with 1 Axes>"
      ]
     },
     "metadata": {
      "needs_background": "light"
     },
     "output_type": "display_data"
    }
   ],
   "source": [
    "\n",
    "plt.scatter(y_pred,y_test, color = 'g', s=10, label = \"Test Data\")\n",
    "plt.hlines(y=0, xmin =0, xmax=20, linewidth = 2)\n",
    "plt.legend(loc = 'upper right')\n",
    "plt.title('error')\n",
    "plt.show()"
   ]
  },
  {
   "cell_type": "code",
   "execution_count": null,
   "metadata": {},
   "outputs": [],
   "source": []
  },
  {
   "cell_type": "code",
   "execution_count": null,
   "metadata": {},
   "outputs": [],
   "source": []
  }
 ],
 "metadata": {
  "kernelspec": {
   "display_name": "Python 3",
   "language": "python",
   "name": "python3"
  },
  "language_info": {
   "codemirror_mode": {
    "name": "ipython",
    "version": 3
   },
   "file_extension": ".py",
   "mimetype": "text/x-python",
   "name": "python",
   "nbconvert_exporter": "python",
   "pygments_lexer": "ipython3",
   "version": "3.7.4"
  }
 },
 "nbformat": 4,
 "nbformat_minor": 2
}
